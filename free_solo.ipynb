{
 "cells": [
  {
   "cell_type": "code",
   "execution_count": 1,
   "id": "fbb23115",
   "metadata": {},
   "outputs": [
    {
     "data": {
      "image/png": "[encoded data removed]",
      "text/plain": [
       "<Figure size 1000x500 with 1 Axes>"
      ]
     },
     "metadata": {},
     "output_type": "display_data"
    }
   ],
   "source": [
    "import sys\n",
    "sys.path.append(\"./kaggle/input/google-code-golf-2025/code_golf_utils\")\n",
    "from code_golf_utils import *\n",
    "show_legend()"
   ]
  },
  {
   "cell_type": "code",
   "execution_count": 2,
   "id": "d7fe8219",
   "metadata": {},
   "outputs": [
    {
     "data": {
      "image/png": "[encoded data removed]",
      "text/plain": [
       "<Figure size 1000x500 with 1 Axes>"
      ]
     },
     "metadata": {},
     "output_type": "display_data"
    }
   ],
   "source": [
    "# Examples\n",
    "show_examples(load_examples(1)['train'])"
   ]
  },
  {
   "cell_type": "code",
   "execution_count": null,
   "id": "16afe2c4",
   "metadata": {},
   "outputs": [],
   "source": [
    "# Submission Compression\n",
    "import zlib\n",
    "import zipfile\n",
    "import zopfli.zlib\n",
    "from tqdm import tqdm\n",
    "from zipfile import ZipFile\n",
    "\n",
    "#https://www.kaggle.com/code/cheeseexports/big-zippa\n",
    "def zip_src(src_code):\n",
    "    compressed_options = []\n",
    "    for compress in [zopfli.zlib.compress, lambda data: zlib.compress(data, 9)]:\n",
    "        for trailing in [b\"\", b\"\\n\"]:\n",
    "            src = src_code + trailing\n",
    "            # We prefer that compressed source not end in a quotation mark\n",
    "            while (compressed := compress(src))[-1] == ord('\"'):\n",
    "                src += b\"#\"\n",
    "\n",
    "            def sanitize(b_in):\n",
    "                \"\"\"Clean up problematic bytes in compressed b-string\"\"\"\n",
    "                b_out = bytearray()\n",
    "                for b in b_in:\n",
    "                    if b == 0:\n",
    "                        b_out += b\"\\\\x00\"\n",
    "                    elif b == ord(\"\\r\"):\n",
    "                        b_out += b\"\\\\r\"\n",
    "                    elif b == ord(\"\\\\\"):\n",
    "                        b_out += b\"\\\\\\\\\"\n",
    "                    else:\n",
    "                        b_out.append(b)\n",
    "                return b\"\" + b_out\n",
    "\n",
    "            compressed = sanitize(compressed)\n",
    "            delim = b'\"'\n",
    "            if ord(\"\\n\") in compressed:\n",
    "                delim = b'\"\"\"'\n",
    "            elif ord('\"') in compressed:\n",
    "                delim = b\"'\"\n",
    "            compressed_options.append(\n",
    "                b\"#coding:L1\\nimport zlib\\nexec(zlib.decompress(bytes(\"\n",
    "                + delim\n",
    "                + compressed\n",
    "                + delim\n",
    "                + b',\"L1\")))'\n",
    "            )\n",
    "    return min(compressed_options, key=lambda x: len(x))\n",
    "\n",
    "files = {}\n",
    "total_save=0\n",
    "input_dir = \"./kaggle/original\"\n",
    "output_dir = \"./kaggle/submission\""
   ]
  },
  {
   "cell_type": "code",
   "execution_count": 17,
   "id": "424d7289",
   "metadata": {},
   "outputs": [
    {
     "name": "stdout",
     "output_type": "stream",
     "text": [
      "Total Compression Save:  62904\n",
      "Total Score:  886841\n"
     ]
    }
   ],
   "source": [
    "total_save = 0\n",
    "score = 0\n",
    "\n",
    "for task_index in range(1, 401):\n",
    "    original_src = open(f'{input_dir}/task' + str(task_index).zfill(3) + '.py','rb').read().strip()\n",
    "    zipped_src = zip_src(original_src)\n",
    "    improvement = len(original_src) - len(zipped_src)\n",
    "    \n",
    "    if improvement > 0:\n",
    "        total_save += improvement\n",
    "        open(f'{output_dir}/task' + str(task_index).zfill(3) + '.py','wb').write(zipped_src)\n",
    "        score += max(1, 2500-len(zipped_src))\n",
    "    else:\n",
    "        open(f'{output_dir}/task' + str(task_index).zfill(3) + '.py','wb').write(original_src)\n",
    "        score += max(1, 2500-len(original_src))\n",
    "        \n",
    "    \n",
    "print(\"Total Compression Save: \", total_save)\n",
    "print(\"Total Score: \", score)"
   ]
  },
  {
   "cell_type": "code",
   "execution_count": null,
   "id": "83faa8e6",
   "metadata": {},
   "outputs": [],
   "source": []
  }
 ],
 "metadata": {
  "kernelspec": {
   "display_name": "workspace",
   "language": "python",
   "name": "python3"
  },
  "language_info": {
   "codemirror_mode": {
    "name": "ipython",
    "version": 3
   },
   "file_extension": ".py",
   "mimetype": "text/x-python",
   "name": "python",
   "nbconvert_exporter": "python",
   "pygments_lexer": "ipython3",
   "version": "3.10.14"
  }
 },
 "nbformat": 4,
 "nbformat_minor": 5
}
